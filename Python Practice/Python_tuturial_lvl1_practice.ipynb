{
  "nbformat": 4,
  "nbformat_minor": 0,
  "metadata": {
    "colab": {
      "provenance": [],
      "authorship_tag": "ABX9TyMA4/VulQ3coyAAXPbtdLGY",
      "include_colab_link": true
    },
    "kernelspec": {
      "name": "python3",
      "display_name": "Python 3"
    },
    "language_info": {
      "name": "python"
    }
  },
  "cells": [
    {
      "cell_type": "markdown",
      "metadata": {
        "id": "view-in-github",
        "colab_type": "text"
      },
      "source": [
        "<a href=\"https://colab.research.google.com/github/aman-m4/Machine-Learning-2024/blob/main/Python%20Practice/Python_tuturial_lvl1_practice.ipynb\" target=\"_parent\"><img src=\"https://colab.research.google.com/assets/colab-badge.svg\" alt=\"Open In Colab\"/></a>"
      ]
    },
    {
      "cell_type": "markdown",
      "source": [
        "#What are variables?"
      ],
      "metadata": {
        "id": "jjcWMk8faDfl"
      }
    },
    {
      "cell_type": "code",
      "execution_count": 3,
      "metadata": {
        "colab": {
          "base_uri": "https://localhost:8080/"
        },
        "id": "LDyw0fhQYIuT",
        "outputId": "00d82161-2727-4146-9552-b7bbb538d46f"
      },
      "outputs": [
        {
          "output_type": "stream",
          "name": "stdout",
          "text": [
            "Hello World\n"
          ]
        }
      ],
      "source": [
        "print(\"Hello World\")"
      ]
    },
    {
      "cell_type": "code",
      "source": [
        "print(\"more string\")"
      ],
      "metadata": {
        "colab": {
          "base_uri": "https://localhost:8080/"
        },
        "id": "xPaF9JZqZ1gk",
        "outputId": "f58dd124-77f1-4f2a-b926-07495ccebc41"
      },
      "execution_count": 4,
      "outputs": [
        {
          "output_type": "stream",
          "name": "stdout",
          "text": [
            "more string\n"
          ]
        }
      ]
    },
    {
      "cell_type": "code",
      "source": [
        "print(\"more string\")\n",
        "print(3)"
      ],
      "metadata": {
        "colab": {
          "base_uri": "https://localhost:8080/"
        },
        "id": "vvD_4PfxaBVh",
        "outputId": "53a1fbe4-195e-4b61-bc61-95629a48f2c5"
      },
      "execution_count": 5,
      "outputs": [
        {
          "output_type": "stream",
          "name": "stdout",
          "text": [
            "more string\n",
            "3\n"
          ]
        }
      ]
    },
    {
      "cell_type": "code",
      "source": [
        "a = 1 # a contains the value 1\n",
        "# a refers to the value 1\n",
        "print(a)"
      ],
      "metadata": {
        "colab": {
          "base_uri": "https://localhost:8080/"
        },
        "id": "fBZcrUMhaI0l",
        "outputId": "02b6e4bd-e388-4ddc-ea35-8fc465bc669e"
      },
      "execution_count": 6,
      "outputs": [
        {
          "output_type": "stream",
          "name": "stdout",
          "text": [
            "1\n"
          ]
        }
      ]
    },
    {
      "cell_type": "code",
      "source": [
        "b = 2"
      ],
      "metadata": {
        "id": "3ALEeE33asY3"
      },
      "execution_count": 7,
      "outputs": []
    },
    {
      "cell_type": "code",
      "source": [
        "b"
      ],
      "metadata": {
        "colab": {
          "base_uri": "https://localhost:8080/"
        },
        "id": "2p32H373avYt",
        "outputId": "d5b6e5b8-6170-4166-d7d3-eba3b9676a04"
      },
      "execution_count": 8,
      "outputs": [
        {
          "output_type": "execute_result",
          "data": {
            "text/plain": [
              "2"
            ]
          },
          "metadata": {},
          "execution_count": 8
        }
      ]
    },
    {
      "cell_type": "code",
      "source": [
        "c = \" Hello There \" # here c refers to the string Hello There"
      ],
      "metadata": {
        "id": "tznpPUYfayE1"
      },
      "execution_count": 9,
      "outputs": []
    },
    {
      "cell_type": "code",
      "source": [
        "b =  # here b is\n",
        "#b is reassigned to 1"
      ],
      "metadata": {
        "colab": {
          "base_uri": "https://localhost:8080/"
        },
        "id": "OTsdjJfJbRYY",
        "outputId": "9385ac70-2cff-4bb6-b82e-3696268703a9"
      },
      "execution_count": 10,
      "outputs": [
        {
          "output_type": "execute_result",
          "data": {
            "text/plain": [
              "1"
            ]
          },
          "metadata": {},
          "execution_count": 10
        }
      ]
    },
    {
      "cell_type": "code",
      "source": [
        "e = \"this is a string\"\n",
        "print(e)"
      ],
      "metadata": {
        "colab": {
          "base_uri": "https://localhost:8080/"
        },
        "id": "fbiQz16obUyk",
        "outputId": "ade9ab44-29c4-4eb6-ecaf-f158462e81db"
      },
      "execution_count": 12,
      "outputs": [
        {
          "output_type": "stream",
          "name": "stdout",
          "text": [
            "this is a string\n"
          ]
        }
      ]
    },
    {
      "cell_type": "code",
      "source": [
        "print(a)\n",
        "print(c)"
      ],
      "metadata": {
        "colab": {
          "base_uri": "https://localhost:8080/"
        },
        "id": "ol61JZyYbbOj",
        "outputId": "35c1ad15-c77b-4354-89f2-43033cbdb8ad"
      },
      "execution_count": 13,
      "outputs": [
        {
          "output_type": "stream",
          "name": "stdout",
          "text": [
            "1\n",
            " Hello There \n"
          ]
        }
      ]
    },
    {
      "cell_type": "code",
      "source": [
        "f = a"
      ],
      "metadata": {
        "id": "96B6h5ylb27v"
      },
      "execution_count": 14,
      "outputs": []
    },
    {
      "cell_type": "code",
      "source": [
        "f"
      ],
      "metadata": {
        "colab": {
          "base_uri": "https://localhost:8080/"
        },
        "id": "_SAjBkw5b4hi",
        "outputId": "f9599752-46b9-43e7-862c-7768292c3bf5"
      },
      "execution_count": 15,
      "outputs": [
        {
          "output_type": "execute_result",
          "data": {
            "text/plain": [
              "1"
            ]
          },
          "metadata": {},
          "execution_count": 15
        }
      ]
    },
    {
      "cell_type": "code",
      "source": [
        "a=2"
      ],
      "metadata": {
        "id": "QhuxOerMb8xW"
      },
      "execution_count": 16,
      "outputs": []
    },
    {
      "cell_type": "code",
      "source": [
        "a"
      ],
      "metadata": {
        "colab": {
          "base_uri": "https://localhost:8080/"
        },
        "id": "KS8d5bPmb91Y",
        "outputId": "a76390a3-7b3a-4b69-b0dc-ae1fd2c935c2"
      },
      "execution_count": 17,
      "outputs": [
        {
          "output_type": "execute_result",
          "data": {
            "text/plain": [
              "2"
            ]
          },
          "metadata": {},
          "execution_count": 17
        }
      ]
    },
    {
      "cell_type": "code",
      "source": [
        "f # here we can see that f referred to the value a was inititally pointing, now that it has been given a new value, f keeps referrring to the previous value"
      ],
      "metadata": {
        "colab": {
          "base_uri": "https://localhost:8080/"
        },
        "id": "dQi0d6UZb-On",
        "outputId": "ce120976-9b79-43b1-a73e-b51081073480"
      },
      "execution_count": 18,
      "outputs": [
        {
          "output_type": "execute_result",
          "data": {
            "text/plain": [
              "1"
            ]
          },
          "metadata": {},
          "execution_count": 18
        }
      ]
    },
    {
      "cell_type": "code",
      "source": [
        "v1 = \"first string\"\n",
        "v2 = \"second string\""
      ],
      "metadata": {
        "id": "KpIIue2Gb-z4"
      },
      "execution_count": 19,
      "outputs": []
    },
    {
      "cell_type": "code",
      "source": [
        "# for swapping the variables\n",
        "temp = v1\n",
        "v1 = v2\n",
        "v2 = temp\n",
        "\n",
        "print('v1:',v1)\n",
        "print('v2:',v2)"
      ],
      "metadata": {
        "colab": {
          "base_uri": "https://localhost:8080/"
        },
        "id": "r_wjtvkaccF0",
        "outputId": "fdb54b1a-416f-4f60-8f8d-18e57d39f880"
      },
      "execution_count": 20,
      "outputs": [
        {
          "output_type": "stream",
          "name": "stdout",
          "text": [
            "v1: second string\n",
            "v2: first string\n"
          ]
        }
      ]
    },
    {
      "cell_type": "markdown",
      "source": [
        "# If/Else Statements"
      ],
      "metadata": {
        "id": "6BM77JNmdHL5"
      }
    },
    {
      "cell_type": "code",
      "source": [
        "print(\"hello 1\")\n",
        "print(\"hello 2\")"
      ],
      "metadata": {
        "colab": {
          "base_uri": "https://localhost:8080/"
        },
        "id": "dPSevTOpc_Ek",
        "outputId": "039c2573-3f23-4fce-c6df-5ffcbb9f0aa8"
      },
      "execution_count": 21,
      "outputs": [
        {
          "output_type": "stream",
          "name": "stdout",
          "text": [
            "hello 1\n",
            "hello 2\n"
          ]
        }
      ]
    },
    {
      "cell_type": "code",
      "source": [
        "a = 4\n",
        "b = 3\n",
        "if a < b:\n",
        "  print('a is less than b')\n",
        "else:\n",
        "    if a==b:\n",
        "      print(\"a is equal to b\")\n",
        "    else:\n",
        "      print(\"b is less than a\")"
      ],
      "metadata": {
        "colab": {
          "base_uri": "https://localhost:8080/"
        },
        "id": "F6e5Tsm5djVX",
        "outputId": "2a4095e3-475c-4737-c027-db61cb037e97"
      },
      "execution_count": 32,
      "outputs": [
        {
          "output_type": "stream",
          "name": "stdout",
          "text": [
            "b is less than a\n"
          ]
        }
      ]
    },
    {
      "cell_type": "code",
      "source": [
        "name = \"Aman Mishra\"\n",
        "weight_kg = 84\n",
        "height_m = 1.93\n",
        "\n",
        "bmi = weight_kg / (height_m**2)\n",
        "print(\"BMI is : \",bmi)\n",
        "\n",
        "if bmi <25:\n",
        "  print(name)\n",
        "  print(\"is not overweight\")\n",
        "else:\n",
        "  print(name)\n",
        "  print(\"is overweight\")"
      ],
      "metadata": {
        "colab": {
          "base_uri": "https://localhost:8080/"
        },
        "id": "6RUXck7vflOW",
        "outputId": "ff68da6c-328c-4dd3-ca25-39dcaec4ec71"
      },
      "execution_count": 33,
      "outputs": [
        {
          "output_type": "stream",
          "name": "stdout",
          "text": [
            "BMI is :  22.550940964858118\n",
            "Aman Mishra\n",
            "is not overweight\n"
          ]
        }
      ]
    },
    {
      "cell_type": "markdown",
      "source": [
        "# Functions"
      ],
      "metadata": {
        "id": "ZnoGJccjg0Z4"
      }
    },
    {
      "cell_type": "code",
      "source": [
        "# a collection of instructions\n",
        "\n",
        "def f1():\n",
        "  print(\"ahh\")\n",
        "  print(\"ahh2\")\n",
        "print(\"outside the function\")"
      ],
      "metadata": {
        "colab": {
          "base_uri": "https://localhost:8080/"
        },
        "id": "sMOJdneGg2bt",
        "outputId": "a287c62a-edf5-4c4b-faf9-3c37b439baf7"
      },
      "execution_count": 34,
      "outputs": [
        {
          "output_type": "stream",
          "name": "stdout",
          "text": [
            "outside the function\n"
          ]
        }
      ]
    },
    {
      "cell_type": "code",
      "source": [
        "f1() #calling the function to use it\n",
        "f1()"
      ],
      "metadata": {
        "colab": {
          "base_uri": "https://localhost:8080/"
        },
        "id": "VtbUyztghizR",
        "outputId": "26941861-cc6f-4d03-b208-421b6395be17"
      },
      "execution_count": 36,
      "outputs": [
        {
          "output_type": "stream",
          "name": "stdout",
          "text": [
            "ahh\n",
            "ahh2\n",
            "ahh\n",
            "ahh2\n"
          ]
        }
      ]
    },
    {
      "cell_type": "code",
      "source": [
        "# a function can be used to map too\n",
        "def f2(x): # here x is the argument\n",
        "  return 2*x #the return value which is doubled"
      ],
      "metadata": {
        "id": "0z8mDHjlhoNs"
      },
      "execution_count": 37,
      "outputs": []
    },
    {
      "cell_type": "code",
      "source": [
        "a = f2(4) #result is stored in variable a\n",
        "print(a)"
      ],
      "metadata": {
        "colab": {
          "base_uri": "https://localhost:8080/"
        },
        "id": "ld0pt1iIh2V4",
        "outputId": "6c5eecfd-a628-4b1d-d351-3ea95aaee31b"
      },
      "execution_count": 40,
      "outputs": [
        {
          "output_type": "stream",
          "name": "stdout",
          "text": [
            "8\n"
          ]
        }
      ]
    },
    {
      "cell_type": "code",
      "source": [
        "def f3(x,y):\n",
        "  return x+y\n",
        "\n",
        "e = f3(1,2)\n",
        "print(e)"
      ],
      "metadata": {
        "colab": {
          "base_uri": "https://localhost:8080/"
        },
        "id": "NrbMPTLlh3XO",
        "outputId": "23461619-4fdb-4667-930f-d4c97948b297"
      },
      "execution_count": 41,
      "outputs": [
        {
          "output_type": "stream",
          "name": "stdout",
          "text": [
            "3\n"
          ]
        }
      ]
    },
    {
      "cell_type": "code",
      "source": [
        "def f4(x):\n",
        "  print(x)\n",
        "  print(\"still in the function\")\n",
        "  return 3*x\n",
        "\n",
        "f = f4(4)\n",
        "print(f)"
      ],
      "metadata": {
        "colab": {
          "base_uri": "https://localhost:8080/"
        },
        "id": "rr0yWyJUipAU",
        "outputId": "ade77cd1-06ba-482e-e84f-d2f50dda8f90"
      },
      "execution_count": 42,
      "outputs": [
        {
          "output_type": "stream",
          "name": "stdout",
          "text": [
            "4\n",
            "still in the function\n",
            "12\n"
          ]
        }
      ]
    },
    {
      "cell_type": "code",
      "source": [
        "#BMI Calculator\n",
        "\n",
        "name = \"Aman Mishra\"\n",
        "height_m = 1.93\n",
        "weight_kg = 84\n",
        "\n",
        "name_2 = \"Aastha Pareek\"\n",
        "height_m_2 = 1.67\n",
        "weight_kg_2 = 60"
      ],
      "metadata": {
        "id": "qTi9Yod8jBDW"
      },
      "execution_count": 46,
      "outputs": []
    },
    {
      "cell_type": "code",
      "source": [
        "#function tp calculate the bmi\n",
        "def bmi(name,height_kg,weight_kg):\n",
        "  print(f\"Hi {name} to BMI calculator\\n\")\n",
        "\n",
        "  bmi = weight_kg / (height_m**2)\n",
        "\n",
        "  print(f\"The final report for {name}:\\n\")\n",
        "  print(f\"Height is : {height_kg}\")\n",
        "  print(f\"Weight is : {weight_kg}\")\n",
        "  print(\"BMI is : \",bmi)\n",
        "\n",
        "  if bmi < 25:\n",
        "    return name + ' ' + \"is not overweight\"\n",
        "  else:\n",
        "    return name + ' ' + \"is overweight\"\n",
        ""
      ],
      "metadata": {
        "id": "5L1afCUAmGSw"
      },
      "execution_count": 59,
      "outputs": []
    },
    {
      "cell_type": "code",
      "source": [
        "r1 = bmi(name,height_m,weight_kg)\n",
        "r2 = bmi(name_2,height_m_2,weight_kg_2)"
      ],
      "metadata": {
        "colab": {
          "base_uri": "https://localhost:8080/"
        },
        "id": "yJHz-CL0mz6x",
        "outputId": "014fd2ba-35e8-4ce5-a812-3689f9517156"
      },
      "execution_count": 60,
      "outputs": [
        {
          "output_type": "stream",
          "name": "stdout",
          "text": [
            "Hi Aman Mishra to BMI calculator\n",
            "\n",
            "The final report for Aman Mishra:\n",
            "\n",
            "Height is : 1.93\n",
            "Weight is : 84\n",
            "BMI is :  22.550940964858118\n",
            "Hi Aastha Pareek to BMI calculator\n",
            "\n",
            "The final report for Aastha Pareek:\n",
            "\n",
            "Height is : 1.67\n",
            "Weight is : 60\n",
            "BMI is :  16.107814974898655\n"
          ]
        }
      ]
    },
    {
      "cell_type": "code",
      "source": [
        "print(r1)"
      ],
      "metadata": {
        "colab": {
          "base_uri": "https://localhost:8080/"
        },
        "id": "sDaTgYzjoth_",
        "outputId": "131192db-bc8a-4e99-9153-01ab08bdbd72"
      },
      "execution_count": 61,
      "outputs": [
        {
          "output_type": "stream",
          "name": "stdout",
          "text": [
            "Aman Mishra is not overweight\n"
          ]
        }
      ]
    },
    {
      "cell_type": "code",
      "source": [
        "print(r2)"
      ],
      "metadata": {
        "colab": {
          "base_uri": "https://localhost:8080/"
        },
        "id": "kaqd84hIpBP8",
        "outputId": "75e0cf6e-21d8-4780-d056-7496743202d5"
      },
      "execution_count": 62,
      "outputs": [
        {
          "output_type": "stream",
          "name": "stdout",
          "text": [
            "Aastha Pareek is not overweight\n"
          ]
        }
      ]
    },
    {
      "cell_type": "code",
      "source": [
        "#Homework :  Create a function convert kilometers to miles\n",
        "\n",
        "def convert(km):\n",
        "\n",
        "  print(f\"{km} kilometers converted in miles is:\\n\")\n",
        "  miles = km * 0.62\n",
        "  return miles\n",
        "\n",
        "m = convert(10)\n",
        "print(m)"
      ],
      "metadata": {
        "colab": {
          "base_uri": "https://localhost:8080/"
        },
        "id": "UFGERc9cpCJf",
        "outputId": "ff35dc38-4e21-4e0c-ea84-556c9c83f000"
      },
      "execution_count": 64,
      "outputs": [
        {
          "output_type": "stream",
          "name": "stdout",
          "text": [
            "10 kilometers converted in miles is:\n",
            "\n",
            "6.2\n"
          ]
        }
      ]
    },
    {
      "cell_type": "markdown",
      "source": [
        "# Lists"
      ],
      "metadata": {
        "id": "PjTUqaZnqBqw"
      }
    },
    {
      "cell_type": "code",
      "source": [
        "a = [3,10,-1]"
      ],
      "metadata": {
        "id": "H01P06ZYqE3A"
      },
      "execution_count": 65,
      "outputs": []
    },
    {
      "cell_type": "code",
      "source": [
        "print(a)"
      ],
      "metadata": {
        "colab": {
          "base_uri": "https://localhost:8080/"
        },
        "id": "5JqsbtjqqMmw",
        "outputId": "37fab7a5-0bc0-4680-95b4-ce247b5d051a"
      },
      "execution_count": 66,
      "outputs": [
        {
          "output_type": "stream",
          "name": "stdout",
          "text": [
            "[3, 10, -1]\n"
          ]
        }
      ]
    },
    {
      "cell_type": "code",
      "source": [
        "type(a)"
      ],
      "metadata": {
        "colab": {
          "base_uri": "https://localhost:8080/"
        },
        "id": "UP1w4yS5qNcR",
        "outputId": "a8d3da01-6b41-4fb0-9062-982e4b4c4920"
      },
      "execution_count": 69,
      "outputs": [
        {
          "output_type": "execute_result",
          "data": {
            "text/plain": [
              "list"
            ]
          },
          "metadata": {},
          "execution_count": 69
        }
      ]
    },
    {
      "cell_type": "code",
      "source": [
        "a.append(2) #built in function"
      ],
      "metadata": {
        "id": "-5hfOItVqOPV"
      },
      "execution_count": 70,
      "outputs": []
    },
    {
      "cell_type": "code",
      "source": [
        "a"
      ],
      "metadata": {
        "colab": {
          "base_uri": "https://localhost:8080/"
        },
        "id": "sCwMZTGAqT28",
        "outputId": "ee5d8f3e-5faa-48d7-fadc-da3eb6deb391"
      },
      "execution_count": 71,
      "outputs": [
        {
          "output_type": "execute_result",
          "data": {
            "text/plain": [
              "[3, 10, -1, 2]"
            ]
          },
          "metadata": {},
          "execution_count": 71
        }
      ]
    },
    {
      "cell_type": "code",
      "source": [
        "a.append(\"Hello\")"
      ],
      "metadata": {
        "id": "aJnxK0tMqUYB"
      },
      "execution_count": 72,
      "outputs": []
    },
    {
      "cell_type": "code",
      "source": [
        "a"
      ],
      "metadata": {
        "colab": {
          "base_uri": "https://localhost:8080/"
        },
        "id": "JEPnBOf1qa0i",
        "outputId": "9ba0e81c-3a32-4acd-ecfb-a525f9a08b8a"
      },
      "execution_count": 73,
      "outputs": [
        {
          "output_type": "execute_result",
          "data": {
            "text/plain": [
              "[3, 10, -1, 2, 'Hello']"
            ]
          },
          "metadata": {},
          "execution_count": 73
        }
      ]
    },
    {
      "cell_type": "code",
      "source": [
        "a.append([1,2,3])"
      ],
      "metadata": {
        "id": "RtOkx0oqqbKa"
      },
      "execution_count": 74,
      "outputs": []
    },
    {
      "cell_type": "code",
      "source": [
        "a"
      ],
      "metadata": {
        "colab": {
          "base_uri": "https://localhost:8080/"
        },
        "id": "QGZgifT5qeB3",
        "outputId": "b92cd2f1-a09e-4b19-a62d-9dbb6e4b56ae"
      },
      "execution_count": 75,
      "outputs": [
        {
          "output_type": "execute_result",
          "data": {
            "text/plain": [
              "[3, 10, -1, 2, 'Hello', [1, 2, 3]]"
            ]
          },
          "metadata": {},
          "execution_count": 75
        }
      ]
    },
    {
      "cell_type": "code",
      "source": [
        "a.pop()"
      ],
      "metadata": {
        "colab": {
          "base_uri": "https://localhost:8080/"
        },
        "id": "yl-ZVA6FqeV9",
        "outputId": "af025c2c-23ac-40c6-8a64-256bf0a29465"
      },
      "execution_count": 76,
      "outputs": [
        {
          "output_type": "execute_result",
          "data": {
            "text/plain": [
              "[1, 2, 3]"
            ]
          },
          "metadata": {},
          "execution_count": 76
        }
      ]
    },
    {
      "cell_type": "code",
      "source": [
        "a"
      ],
      "metadata": {
        "colab": {
          "base_uri": "https://localhost:8080/"
        },
        "id": "M6jz1FxgqkU1",
        "outputId": "c4b894a8-b702-499f-fa46-2bd0e2784853"
      },
      "execution_count": 77,
      "outputs": [
        {
          "output_type": "execute_result",
          "data": {
            "text/plain": [
              "[3, 10, -1, 2, 'Hello']"
            ]
          },
          "metadata": {},
          "execution_count": 77
        }
      ]
    },
    {
      "cell_type": "code",
      "source": [
        "a.pop()"
      ],
      "metadata": {
        "colab": {
          "base_uri": "https://localhost:8080/",
          "height": 36
        },
        "id": "aZxR_8Knqk_T",
        "outputId": "d3922d16-6b01-4e70-f85b-e20b73b6c545"
      },
      "execution_count": 78,
      "outputs": [
        {
          "output_type": "execute_result",
          "data": {
            "text/plain": [
              "'Hello'"
            ],
            "application/vnd.google.colaboratory.intrinsic+json": {
              "type": "string"
            }
          },
          "metadata": {},
          "execution_count": 78
        }
      ]
    },
    {
      "cell_type": "code",
      "source": [
        "a"
      ],
      "metadata": {
        "colab": {
          "base_uri": "https://localhost:8080/"
        },
        "id": "3t9VXXdiqrvd",
        "outputId": "c96d8dfe-d71f-490d-9dc6-84b1146f8032"
      },
      "execution_count": 79,
      "outputs": [
        {
          "output_type": "execute_result",
          "data": {
            "text/plain": [
              "[3, 10, -1, 2]"
            ]
          },
          "metadata": {},
          "execution_count": 79
        }
      ]
    },
    {
      "cell_type": "code",
      "source": [
        "a[2]"
      ],
      "metadata": {
        "colab": {
          "base_uri": "https://localhost:8080/"
        },
        "id": "EIDZVXrxqsIo",
        "outputId": "65d88b97-a244-4fa1-c504-8e428cde7d0b"
      },
      "execution_count": 80,
      "outputs": [
        {
          "output_type": "execute_result",
          "data": {
            "text/plain": [
              "-1"
            ]
          },
          "metadata": {},
          "execution_count": 80
        }
      ]
    },
    {
      "cell_type": "code",
      "source": [
        "a[0] = 100"
      ],
      "metadata": {
        "id": "Nfcghl_oqvdB"
      },
      "execution_count": 81,
      "outputs": []
    },
    {
      "cell_type": "code",
      "source": [
        "a"
      ],
      "metadata": {
        "colab": {
          "base_uri": "https://localhost:8080/"
        },
        "id": "GrdA-4bdq5S6",
        "outputId": "2322129a-912a-4dc8-f559-b28169be068e"
      },
      "execution_count": 82,
      "outputs": [
        {
          "output_type": "execute_result",
          "data": {
            "text/plain": [
              "[100, 10, -1, 2]"
            ]
          },
          "metadata": {},
          "execution_count": 82
        }
      ]
    },
    {
      "cell_type": "code",
      "source": [
        "b = [\"banana\",\"apple\",\"microsoft\"]\n",
        "\n",
        "#swapping the first value with the last value in the list\n",
        "temp = b[0]\n",
        "b[0] = b[-1]\n",
        "b[-1] = temp\n",
        "\n",
        "print(b)"
      ],
      "metadata": {
        "colab": {
          "base_uri": "https://localhost:8080/"
        },
        "id": "rF9gm3dmq5yP",
        "outputId": "6d7d190e-6e86-4dc7-b64c-f874b9f7b581"
      },
      "execution_count": 83,
      "outputs": [
        {
          "output_type": "stream",
          "name": "stdout",
          "text": [
            "['microsoft', 'apple', 'banana']\n"
          ]
        }
      ]
    },
    {
      "cell_type": "code",
      "source": [
        "# OR the items can be sqapped like this\n",
        "\n",
        "b = [\"banana\",\"apple\",\"microsoft\"]\n",
        "\n",
        "b[0],b[-1] = b[-1],b[0]\n",
        "\n",
        "print(b)"
      ],
      "metadata": {
        "colab": {
          "base_uri": "https://localhost:8080/"
        },
        "id": "SYPXvgfyrTKm",
        "outputId": "6c8031fb-c07d-444f-8f21-b366211bae5a"
      },
      "execution_count": 84,
      "outputs": [
        {
          "output_type": "stream",
          "name": "stdout",
          "text": [
            "['microsoft', 'apple', 'banana']\n"
          ]
        }
      ]
    },
    {
      "cell_type": "markdown",
      "source": [
        "# Loops"
      ],
      "metadata": {
        "id": "eO3fFeG5r4qe"
      }
    },
    {
      "cell_type": "code",
      "source": [
        "b = [\"banana\",\"apple\",\"microsoft\"]\n",
        "\n",
        "for i in b:\n",
        "  print(i)"
      ],
      "metadata": {
        "colab": {
          "base_uri": "https://localhost:8080/"
        },
        "id": "YQ437EpZr01k",
        "outputId": "3fce2461-4d8a-4ffa-d94e-e4b144ac60fe"
      },
      "execution_count": 85,
      "outputs": [
        {
          "output_type": "stream",
          "name": "stdout",
          "text": [
            "banana\n",
            "apple\n",
            "microsoft\n"
          ]
        }
      ]
    },
    {
      "cell_type": "code",
      "source": [
        "b = [20,10,5]\n",
        "\n",
        "total = 0 #initialize a new variable\n",
        "\n",
        "for e in b:\n",
        "  total += e\n",
        "\n",
        "print(\"The total is :\" ,total)\n"
      ],
      "metadata": {
        "colab": {
          "base_uri": "https://localhost:8080/"
        },
        "id": "0TzW9VtAsBGe",
        "outputId": "ddbd8d1c-c5b8-454f-9021-5bff92537441"
      },
      "execution_count": 5,
      "outputs": [
        {
          "output_type": "stream",
          "name": "stdout",
          "text": [
            "The total is : 35\n"
          ]
        }
      ]
    },
    {
      "cell_type": "code",
      "source": [
        "range(1,5) # if i want a list starting at 1 till 4\n",
        "\n",
        "a = list(range(1,5))\n",
        "print(a)"
      ],
      "metadata": {
        "colab": {
          "base_uri": "https://localhost:8080/"
        },
        "id": "d_-X_CllqOsD",
        "outputId": "fd430d5f-31d1-4967-be2d-4983659a6a2b"
      },
      "execution_count": 6,
      "outputs": [
        {
          "output_type": "stream",
          "name": "stdout",
          "text": [
            "[1, 2, 3, 4]\n"
          ]
        }
      ]
    },
    {
      "cell_type": "code",
      "source": [
        "total = 0\n",
        "for i in a:\n",
        "  total+=i\n",
        "print(total)"
      ],
      "metadata": {
        "colab": {
          "base_uri": "https://localhost:8080/"
        },
        "id": "aCJUits0rQjU",
        "outputId": "9bdeb8c0-1697-4b05-eb5e-4bfcfba7830c"
      },
      "execution_count": 12,
      "outputs": [
        {
          "output_type": "stream",
          "name": "stdout",
          "text": [
            "10\n"
          ]
        }
      ]
    },
    {
      "cell_type": "code",
      "source": [
        "print(4 % 3 ) # the % here gives the remainder"
      ],
      "metadata": {
        "colab": {
          "base_uri": "https://localhost:8080/"
        },
        "id": "rWxMGkPWrWRL",
        "outputId": "bb29eb44-630c-46f7-e938-3e84412811a8"
      },
      "execution_count": 13,
      "outputs": [
        {
          "output_type": "stream",
          "name": "stdout",
          "text": [
            "1\n"
          ]
        }
      ]
    },
    {
      "cell_type": "code",
      "source": [
        "print(5%3)"
      ],
      "metadata": {
        "colab": {
          "base_uri": "https://localhost:8080/"
        },
        "id": "7-TO5Z-os4S7",
        "outputId": "5015c610-d899-42ac-e6a8-9a398172b0a3"
      },
      "execution_count": 14,
      "outputs": [
        {
          "output_type": "stream",
          "name": "stdout",
          "text": [
            "2\n"
          ]
        }
      ]
    },
    {
      "cell_type": "code",
      "source": [
        "print(1%3)"
      ],
      "metadata": {
        "colab": {
          "base_uri": "https://localhost:8080/"
        },
        "id": "PiNhKawjs50X",
        "outputId": "c8d46c88-2668-48a8-e52a-e86a0cad4052"
      },
      "execution_count": 15,
      "outputs": [
        {
          "output_type": "stream",
          "name": "stdout",
          "text": [
            "1\n"
          ]
        }
      ]
    },
    {
      "cell_type": "code",
      "source": [
        "print(6%3)"
      ],
      "metadata": {
        "colab": {
          "base_uri": "https://localhost:8080/"
        },
        "id": "v2_lEEprs9BL",
        "outputId": "723b051c-39da-4431-d70f-f57a5410ded0"
      },
      "execution_count": 16,
      "outputs": [
        {
          "output_type": "stream",
          "name": "stdout",
          "text": [
            "0\n"
          ]
        }
      ]
    },
    {
      "cell_type": "code",
      "source": [
        "total3 = 0\n",
        "for i in range(1,10):\n",
        "  if i%3 ==0:\n",
        "    print(f\"{i} is a multiple of 3\")\n",
        "  else:\n",
        "    pass"
      ],
      "metadata": {
        "colab": {
          "base_uri": "https://localhost:8080/"
        },
        "id": "1v3bvTHns-qP",
        "outputId": "cd6c031f-e1a8-45f0-f683-c0aa004fe2ed"
      },
      "execution_count": 17,
      "outputs": [
        {
          "output_type": "stream",
          "name": "stdout",
          "text": [
            "3 is a multiple of 3\n",
            "6 is a multiple of 3\n",
            "9 is a multiple of 3\n"
          ]
        }
      ]
    },
    {
      "cell_type": "code",
      "source": [
        "mul3 = []\n",
        "mul5 = []\n",
        "for i in range(1,101):\n",
        "  if i%3 ==0:\n",
        "    mul3.append(i)\n",
        "  elif i%5==0:\n",
        "    mul5.append(i)\n",
        "  else:\n",
        "    pass\n",
        "\n",
        "print(f\"{mul3} is a multiple of 3\")\n",
        "print(f\"{mul5} is a multiple of 5\")\n"
      ],
      "metadata": {
        "colab": {
          "base_uri": "https://localhost:8080/"
        },
        "id": "ZBnN2_I4tL5S",
        "outputId": "0a9487c4-1cdf-473e-c3f7-d590611a3c14"
      },
      "execution_count": 30,
      "outputs": [
        {
          "output_type": "stream",
          "name": "stdout",
          "text": [
            "[3, 6, 9, 12, 15, 18, 21, 24, 27, 30, 33, 36, 39, 42, 45, 48, 51, 54, 57, 60, 63, 66, 69, 72, 75, 78, 81, 84, 87, 90, 93, 96, 99] is a multiple of 3\n",
            "[5, 10, 20, 25, 35, 40, 50, 55, 65, 70, 80, 85, 95, 100] is a multiple of 5\n",
            "[3, 6, 9, 12, 15, 18, 21, 24, 27, 30, 33, 36, 39, 42, 45, 48, 51, 54, 57, 60, 63, 66, 69, 72, 75, 78, 81, 84, 87, 90, 93, 96, 99, 5, 10, 20, 25, 35, 40, 50, 55, 65, 70, 80, 85, 95, 100]\n"
          ]
        }
      ]
    },
    {
      "cell_type": "markdown",
      "source": [
        "# While Loops"
      ],
      "metadata": {
        "id": "4MNlpGe8uB2q"
      }
    },
    {
      "cell_type": "markdown",
      "source": [
        "It can be useful when we dont know how many lists we might use"
      ],
      "metadata": {
        "id": "h9WPIWrEulPd"
      }
    },
    {
      "cell_type": "code",
      "source": [
        "total4 = 0\n",
        "j=1\n",
        "\n",
        "while j < 5:\n",
        "  total4 += j\n",
        "  j = j+1\n",
        "\n",
        "print(total4)"
      ],
      "metadata": {
        "colab": {
          "base_uri": "https://localhost:8080/"
        },
        "id": "dQB_UNRmtdhq",
        "outputId": "91772f84-2b4e-4fd4-f627-10a33a264d87"
      },
      "execution_count": 21,
      "outputs": [
        {
          "output_type": "stream",
          "name": "stdout",
          "text": [
            "10\n"
          ]
        }
      ]
    },
    {
      "cell_type": "code",
      "source": [
        "given_list = [5,4,4,3,1]\n",
        "\n",
        "total3 = 0\n",
        "i=0\n",
        "\n",
        "while i < len(given_list) and given_list[i] >0:\n",
        "  total3 +=i\n",
        "  i+=1\n",
        "\n",
        "print(total3)"
      ],
      "metadata": {
        "colab": {
          "base_uri": "https://localhost:8080/"
        },
        "id": "b6msz85ruIp2",
        "outputId": "655b06ae-23de-45bd-c1dc-a7b852397c39"
      },
      "execution_count": 23,
      "outputs": [
        {
          "output_type": "stream",
          "name": "stdout",
          "text": [
            "10\n"
          ]
        }
      ]
    },
    {
      "cell_type": "code",
      "source": [
        "given_list_2 = [5,4,4,3,1,-2,-4,-6]\n",
        "\n",
        "total4 = 0\n",
        "i=0\n",
        "\n",
        "while i < len(given_list):\n",
        "  if given_list[i] <= 0:\n",
        "    break\n",
        "  total4 +=i\n",
        "  i+=1\n",
        "\n",
        "print(total4)"
      ],
      "metadata": {
        "colab": {
          "base_uri": "https://localhost:8080/"
        },
        "id": "1IYnWgKlvyA6",
        "outputId": "6aa9a8ef-aa17-4783-820b-030784f78452"
      },
      "execution_count": 25,
      "outputs": [
        {
          "output_type": "stream",
          "name": "stdout",
          "text": [
            "10\n"
          ]
        }
      ]
    },
    {
      "cell_type": "markdown",
      "source": [
        "# More on FOR loops"
      ],
      "metadata": {
        "id": "F5ckAjpSwuwk"
      }
    },
    {
      "cell_type": "code",
      "source": [
        "b = [\"banana\",\"apple\",\"microsoft\"]\n",
        "\n",
        "for i in range(len(b)):\n",
        "  print(b[i])\n"
      ],
      "metadata": {
        "colab": {
          "base_uri": "https://localhost:8080/"
        },
        "id": "1NvWKTs2wGcX",
        "outputId": "fc3cb2d1-2e7c-4119-b062-50a217bfda5c"
      },
      "execution_count": 29,
      "outputs": [
        {
          "output_type": "stream",
          "name": "stdout",
          "text": [
            "banana\n",
            "apple\n",
            "microsoft\n"
          ]
        }
      ]
    },
    {
      "cell_type": "code",
      "source": [
        "for i in range(len(b)):\n",
        "  for j in range(i+1):\n",
        "    print(b[i])"
      ],
      "metadata": {
        "colab": {
          "base_uri": "https://localhost:8080/"
        },
        "id": "sqrAn4D0w4Pt",
        "outputId": "23e8f16c-13a4-46b6-834e-9b6c57b29deb"
      },
      "execution_count": 32,
      "outputs": [
        {
          "output_type": "stream",
          "name": "stdout",
          "text": [
            "banana\n",
            "apple\n",
            "apple\n",
            "microsoft\n",
            "microsoft\n",
            "microsoft\n"
          ]
        }
      ]
    },
    {
      "cell_type": "code",
      "source": [
        "total = 0\n",
        "for i in range(1,100):\n",
        "  if i % 3 == 0 or i % 5 ==0:\n",
        "    total+= i\n",
        "print(total)"
      ],
      "metadata": {
        "colab": {
          "base_uri": "https://localhost:8080/"
        },
        "id": "oHzCTucj1EDN",
        "outputId": "8d4ddede-0b9a-46fc-93ac-d47ea76b6a19"
      },
      "execution_count": 36,
      "outputs": [
        {
          "output_type": "stream",
          "name": "stdout",
          "text": [
            "2318\n"
          ]
        }
      ]
    },
    {
      "cell_type": "markdown",
      "source": [
        "# Dictionary"
      ],
      "metadata": {
        "id": "d2IY-u4Q3J_l"
      }
    },
    {
      "cell_type": "code",
      "source": [
        "d = {\n",
        "    \"Aman\":27,\n",
        "    \"Aastha\": 26,\n",
        "    \"Noob\" : 22\n",
        "}\n",
        "\n",
        "for i in d.keys():\n",
        "  print(i)"
      ],
      "metadata": {
        "colab": {
          "base_uri": "https://localhost:8080/"
        },
        "id": "aUZ99ac72UtV",
        "outputId": "0826f43a-812f-4207-dfe6-98d8cadbd8b6"
      },
      "execution_count": 40,
      "outputs": [
        {
          "output_type": "stream",
          "name": "stdout",
          "text": [
            "Aman\n",
            "Aastha\n",
            "Noob\n"
          ]
        }
      ]
    },
    {
      "cell_type": "code",
      "source": [
        "print(d[\"Noob\"])"
      ],
      "metadata": {
        "colab": {
          "base_uri": "https://localhost:8080/"
        },
        "id": "785253Ph3Y4C",
        "outputId": "2552b3be-30e9-47bd-a458-7e89f91ce5bb"
      },
      "execution_count": 46,
      "outputs": [
        {
          "output_type": "stream",
          "name": "stdout",
          "text": [
            "22\n"
          ]
        }
      ]
    },
    {
      "cell_type": "code",
      "source": [
        "d[\"Noob\"] = 21"
      ],
      "metadata": {
        "id": "swl6waw_3kIT"
      },
      "execution_count": 47,
      "outputs": []
    },
    {
      "cell_type": "code",
      "source": [
        "print(d)"
      ],
      "metadata": {
        "colab": {
          "base_uri": "https://localhost:8080/"
        },
        "id": "FELhLueZ30UH",
        "outputId": "76c7026d-089a-429c-8717-d3311571f47c"
      },
      "execution_count": 48,
      "outputs": [
        {
          "output_type": "stream",
          "name": "stdout",
          "text": [
            "{'Aman': 27, 'Aastha': 26, 'Noob': 21}\n"
          ]
        }
      ]
    },
    {
      "cell_type": "code",
      "source": [
        "d[\"Goku\"] = 100"
      ],
      "metadata": {
        "id": "beHAbaot31iD"
      },
      "execution_count": 49,
      "outputs": []
    },
    {
      "cell_type": "code",
      "source": [
        "print(d)"
      ],
      "metadata": {
        "colab": {
          "base_uri": "https://localhost:8080/"
        },
        "id": "Xg87Dkad38l6",
        "outputId": "3cf99cfe-d03d-4172-d0b2-325c0f8b8ad6"
      },
      "execution_count": 50,
      "outputs": [
        {
          "output_type": "stream",
          "name": "stdout",
          "text": [
            "{'Aman': 27, 'Aastha': 26, 'Noob': 21, 'Goku': 100}\n"
          ]
        }
      ]
    },
    {
      "cell_type": "code",
      "source": [
        "for key,value in d.items():\n",
        "  print(f\"key is {key}\")\n",
        "  print(f\"value is {value}\\n\\n\")"
      ],
      "metadata": {
        "colab": {
          "base_uri": "https://localhost:8080/"
        },
        "id": "bkEfqBNg39Yz",
        "outputId": "ecf9b6f8-4b9f-4b3d-de72-f477e08edf69"
      },
      "execution_count": 53,
      "outputs": [
        {
          "output_type": "stream",
          "name": "stdout",
          "text": [
            "key is Aman\n",
            "value is 27\n",
            "\n",
            "\n",
            "key is Aastha\n",
            "value is 26\n",
            "\n",
            "\n",
            "key is Noob\n",
            "value is 21\n",
            "\n",
            "\n",
            "key is Goku\n",
            "value is 100\n",
            "\n",
            "\n"
          ]
        }
      ]
    },
    {
      "cell_type": "markdown",
      "source": [
        "# Class"
      ],
      "metadata": {
        "id": "wWijuxmS-MLm"
      }
    },
    {
      "cell_type": "code",
      "source": [
        "class Robot:\n",
        "  def __init__(self,name,height,weight,color): #this is a constructor\n",
        "    self.name = name # This is an attribute,here the self.name refers that whatever argument will be passed first, it will refer to the name variable\n",
        "    self.height = height\n",
        "    self.weight = weight\n",
        "    self.color = color\n",
        "\n",
        "  def introduce_self(self): #this is called a method\n",
        "    print(f\"My name is {self.name}\")\n",
        "    print(f\"My height is {self.height} cm\")\n",
        "    print(f\"My weight is {self.weight} kg\")\n",
        "    print(f\"My color is {self.color}\")\n",
        "\n",
        "r1 = Robot(\"Siu\",193,84,\"brown\") # here r1 is an object of the robot class\n",
        "r1.introduce_self()\n",
        "r2 = Robot(\"Ronaldo\",194,84,\"white\") # here r1 is an object of the robot class\n",
        "r2.introduce_self()"
      ],
      "metadata": {
        "colab": {
          "base_uri": "https://localhost:8080/"
        },
        "id": "gkoFXmSt4OwN",
        "outputId": "60b0939a-7d49-49f0-d8a2-9b96aa6841b8"
      },
      "execution_count": 71,
      "outputs": [
        {
          "output_type": "stream",
          "name": "stdout",
          "text": [
            "My name is Siu\n",
            "My height is 193 cm\n",
            "My weight is 84 kg\n",
            "My color is brown\n",
            "My name is Ronaldo\n",
            "My height is 194 cm\n",
            "My weight is 84 kg\n",
            "My color is white\n"
          ]
        }
      ]
    },
    {
      "cell_type": "code",
      "source": [
        "class Person:\n",
        "    def __init__(self,name,personality,isSitting): #this is a constructor\n",
        "      self.name = name # This is an attribute,here the self.name refers that whatever argument will be passed first, it will refer to the name variable\n",
        "      self.personality = personality\n",
        "      self.isSitting = isSitting\n",
        "\n",
        "    def sit_down(self):\n",
        "      self.isSitting = True\n",
        "\n",
        "    def stand_up(self):\n",
        "      self.isSitting = False\n"
      ],
      "metadata": {
        "id": "ITwIsnbc9pHJ"
      },
      "execution_count": 72,
      "outputs": []
    },
    {
      "cell_type": "code",
      "source": [
        "p1 = Person(\"Aman\",\"aggressive\",False)\n",
        "p2 = Person(\"Aastha\",\"not super\",True)\n",
        "\n",
        "#p1 owns r2\n",
        "p1.robotOwned = r2\n",
        "#p2 owns r1\n",
        "p2.robotOwned = r1"
      ],
      "metadata": {
        "id": "M3HkBDdkA-s6"
      },
      "execution_count": 73,
      "outputs": []
    },
    {
      "cell_type": "code",
      "source": [
        "p1.robotOwned.introduce_self()\n",
        "p2.robotOwned.introduce_self()"
      ],
      "metadata": {
        "colab": {
          "base_uri": "https://localhost:8080/"
        },
        "id": "VRTOFtUXDH_o",
        "outputId": "27fe36a9-b3fd-42cf-c6e9-6b0ec2f0dbdf"
      },
      "execution_count": 74,
      "outputs": [
        {
          "output_type": "stream",
          "name": "stdout",
          "text": [
            "My name is Ronaldo\n",
            "My height is 194 cm\n",
            "My weight is 84 kg\n",
            "My color is white\n",
            "My name is Siu\n",
            "My height is 193 cm\n",
            "My weight is 84 kg\n",
            "My color is brown\n"
          ]
        }
      ]
    },
    {
      "cell_type": "markdown",
      "source": [
        "# Boolean"
      ],
      "metadata": {
        "id": "kC_RlMv7EI8P"
      }
    },
    {
      "cell_type": "code",
      "source": [
        "type(\"Microsoft\")"
      ],
      "metadata": {
        "colab": {
          "base_uri": "https://localhost:8080/"
        },
        "id": "72-ELwY9D1S8",
        "outputId": "bb904ed4-f65b-4505-e25e-a44d03dbb224"
      },
      "execution_count": 75,
      "outputs": [
        {
          "output_type": "execute_result",
          "data": {
            "text/plain": [
              "str"
            ]
          },
          "metadata": {},
          "execution_count": 75
        }
      ]
    },
    {
      "cell_type": "code",
      "source": [
        "type(True)"
      ],
      "metadata": {
        "colab": {
          "base_uri": "https://localhost:8080/"
        },
        "id": "mhMH_fSHEVy9",
        "outputId": "9aa3f160-d9cc-4d76-ab52-78653197cf36"
      },
      "execution_count": 76,
      "outputs": [
        {
          "output_type": "execute_result",
          "data": {
            "text/plain": [
              "bool"
            ]
          },
          "metadata": {},
          "execution_count": 76
        }
      ]
    },
    {
      "cell_type": "code",
      "source": [
        "def great(c,d,e):\n",
        "  return c > d+e\n",
        "\n",
        "print(great(5,1,2))\n",
        "print(great(2,1,2))"
      ],
      "metadata": {
        "colab": {
          "base_uri": "https://localhost:8080/"
        },
        "id": "s1kQLK61EXI3",
        "outputId": "13840111-e4f7-40a4-879f-53c0c9485cba"
      },
      "execution_count": 81,
      "outputs": [
        {
          "output_type": "stream",
          "name": "stdout",
          "text": [
            "True\n",
            "False\n"
          ]
        }
      ]
    },
    {
      "cell_type": "markdown",
      "source": [
        "# List Comprehension"
      ],
      "metadata": {
        "id": "3FyjQ6qhFJ9y"
      }
    },
    {
      "cell_type": "code",
      "source": [
        "a = [1,2,3,4]\n",
        "d = [x*2 for x in a]\n",
        "print(d)"
      ],
      "metadata": {
        "colab": {
          "base_uri": "https://localhost:8080/"
        },
        "id": "VloZtN11FM5R",
        "outputId": "eb317a0d-38e8-4039-eb8e-ff06ff9a392b"
      },
      "execution_count": 82,
      "outputs": [
        {
          "output_type": "stream",
          "name": "stdout",
          "text": [
            "[2, 4, 6, 8]\n"
          ]
        }
      ]
    },
    {
      "cell_type": "code",
      "source": [
        "b = [x**2 for x in range(1,7)]\n",
        "print(b)"
      ],
      "metadata": {
        "colab": {
          "base_uri": "https://localhost:8080/"
        },
        "id": "ktxmVK3JFUmv",
        "outputId": "175bd55d-8253-4ba5-a6a1-2c47833b137e"
      },
      "execution_count": 83,
      "outputs": [
        {
          "output_type": "stream",
          "name": "stdout",
          "text": [
            "[1, 4, 9, 16, 25, 36]\n"
          ]
        }
      ]
    },
    {
      "cell_type": "code",
      "source": [
        "d = [x**2 for x in range(6,0,-1)]\n",
        "print(d)"
      ],
      "metadata": {
        "colab": {
          "base_uri": "https://localhost:8080/"
        },
        "id": "cbsYIQKoFfc_",
        "outputId": "14d9347f-ffbb-4c78-e6b4-861966e9cf1a"
      },
      "execution_count": 85,
      "outputs": [
        {
          "output_type": "stream",
          "name": "stdout",
          "text": [
            "[36, 25, 16, 9, 4, 1]\n"
          ]
        }
      ]
    },
    {
      "cell_type": "markdown",
      "source": [
        "# Sets"
      ],
      "metadata": {
        "id": "OlMrVn3tF61P"
      }
    },
    {
      "cell_type": "code",
      "source": [
        "a = set()\n",
        "print(a)"
      ],
      "metadata": {
        "colab": {
          "base_uri": "https://localhost:8080/"
        },
        "id": "HlQtCXP4F7dm",
        "outputId": "6f813632-2ade-4d00-e8d3-78f8bb60924b"
      },
      "execution_count": 87,
      "outputs": [
        {
          "output_type": "stream",
          "name": "stdout",
          "text": [
            "set()\n"
          ]
        }
      ]
    },
    {
      "cell_type": "code",
      "source": [
        "a.add(1)"
      ],
      "metadata": {
        "id": "8fsQ8AHgGFlX"
      },
      "execution_count": 88,
      "outputs": []
    },
    {
      "cell_type": "code",
      "source": [
        "a.add(2)"
      ],
      "metadata": {
        "id": "tle5cU45GHAa"
      },
      "execution_count": 89,
      "outputs": []
    },
    {
      "cell_type": "code",
      "source": [
        "a.add(2)"
      ],
      "metadata": {
        "id": "qm2BwS90GIJ2"
      },
      "execution_count": 90,
      "outputs": []
    },
    {
      "cell_type": "code",
      "source": [
        "print(a) # rejects any duplicates"
      ],
      "metadata": {
        "colab": {
          "base_uri": "https://localhost:8080/"
        },
        "id": "-ODCMFl3GJmI",
        "outputId": "c5244f6d-6c04-486c-f187-4913c46844e2"
      },
      "execution_count": 91,
      "outputs": [
        {
          "output_type": "stream",
          "name": "stdout",
          "text": [
            "{1, 2}\n"
          ]
        }
      ]
    },
    {
      "cell_type": "code",
      "source": [
        "for x in a:\n",
        "  print(x)"
      ],
      "metadata": {
        "colab": {
          "base_uri": "https://localhost:8080/"
        },
        "id": "4GTjbEWiGLgt",
        "outputId": "cabbb416-6dfe-4a41-f674-827b28c77786"
      },
      "execution_count": 92,
      "outputs": [
        {
          "output_type": "stream",
          "name": "stdout",
          "text": [
            "1\n",
            "2\n"
          ]
        }
      ]
    },
    {
      "cell_type": "code",
      "source": [
        "b = set()\n",
        "b.add(\"apple\")\n",
        "b.add(\"banana\")\n",
        "b.add(1)\n",
        "\n",
        "print(b)"
      ],
      "metadata": {
        "colab": {
          "base_uri": "https://localhost:8080/"
        },
        "id": "HEfnWzQcGQa8",
        "outputId": "7898a652-8a6d-480c-897d-6b447c11f957"
      },
      "execution_count": 93,
      "outputs": [
        {
          "output_type": "stream",
          "name": "stdout",
          "text": [
            "{'apple', 'banana', 1}\n"
          ]
        }
      ]
    },
    {
      "cell_type": "code",
      "source": [
        "gl = [1,3,4,1,3]\n",
        "\n",
        "ss = set(gl)\n",
        "\n",
        "print(sum(ss))"
      ],
      "metadata": {
        "colab": {
          "base_uri": "https://localhost:8080/"
        },
        "id": "l1OpPVegGjRG",
        "outputId": "9234a3f9-03a9-494f-9824-74afac7f8706"
      },
      "execution_count": 96,
      "outputs": [
        {
          "output_type": "stream",
          "name": "stdout",
          "text": [
            "8\n"
          ]
        }
      ]
    },
    {
      "cell_type": "code",
      "source": [],
      "metadata": {
        "id": "UO3KN9d8GzCF"
      },
      "execution_count": null,
      "outputs": []
    }
  ]
}