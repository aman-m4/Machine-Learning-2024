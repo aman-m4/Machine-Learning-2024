{
  "nbformat": 4,
  "nbformat_minor": 0,
  "metadata": {
    "colab": {
      "provenance": [],
      "authorship_tag": "ABX9TyMS/Qh9Zq/CfWJk7p0KDcSt",
      "include_colab_link": true
    },
    "kernelspec": {
      "name": "python3",
      "display_name": "Python 3"
    },
    "language_info": {
      "name": "python"
    }
  },
  "cells": [
    {
      "cell_type": "markdown",
      "metadata": {
        "id": "view-in-github",
        "colab_type": "text"
      },
      "source": [
        "<a href=\"https://colab.research.google.com/github/aman-m4/Machine-Learning-2024/blob/main/Python%20Practice/Python_recursion_lvl2.ipynb\" target=\"_parent\"><img src=\"https://colab.research.google.com/assets/colab-badge.svg\" alt=\"Open In Colab\"/></a>"
      ]
    },
    {
      "cell_type": "markdown",
      "source": [
        "# Recursion"
      ],
      "metadata": {
        "id": "o37WD5jtR3cW"
      }
    },
    {
      "cell_type": "code",
      "execution_count": 6,
      "metadata": {
        "colab": {
          "base_uri": "https://localhost:8080/"
        },
        "id": "ZyFY7MmAR1SR",
        "outputId": "b1a002b6-7d25-4574-b177-bba6e315baa2"
      },
      "outputs": [
        {
          "output_type": "stream",
          "name": "stdout",
          "text": [
            "the sum is\n",
            " 1\n",
            " 3\n",
            " 6\n"
          ]
        },
        {
          "output_type": "execute_result",
          "data": {
            "text/plain": [
              "6"
            ]
          },
          "metadata": {},
          "execution_count": 6
        }
      ],
      "source": [
        "result = 0\n",
        "def tri_recursion(k):\n",
        "  if (k > 0):\n",
        "    result  = k + tri_recursion(k-1)\n",
        "    print('',result)\n",
        "  else:\n",
        "    result = 0\n",
        "  return result\n",
        "\n",
        "\n",
        "print(\"the sum is\")\n",
        "tri_recursion(3)"
      ]
    },
    {
      "cell_type": "code",
      "source": [
        "def factorial(n):\n",
        "  if (n==0 or n==1):\n",
        "    return 1\n",
        "  else:\n",
        "    return n * factorial(n-1)\n",
        "\n",
        "print(factorial(3))\n",
        "print(factorial(4))\n",
        "print(factorial(5))"
      ],
      "metadata": {
        "colab": {
          "base_uri": "https://localhost:8080/"
        },
        "id": "uRSI1MpSSYJs",
        "outputId": "25276c08-bda5-40af-a948-58aecfd36754"
      },
      "execution_count": 8,
      "outputs": [
        {
          "output_type": "stream",
          "name": "stdout",
          "text": [
            "6\n",
            "24\n",
            "120\n"
          ]
        }
      ]
    },
    {
      "cell_type": "code",
      "source": [
        "# program to print the fibonacci sequence\n",
        "'''\n",
        "f(0) = 0\n",
        "f(1) = 1\n",
        "f(n) = f(n-1) + f(n-2)\n",
        "'''\n",
        "\n"
      ],
      "metadata": {
        "id": "zmdMqLR8UxpI"
      },
      "execution_count": null,
      "outputs": []
    }
  ]
}